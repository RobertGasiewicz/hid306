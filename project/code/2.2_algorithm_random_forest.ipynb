{
 "cells": [
  {
   "cell_type": "markdown",
   "metadata": {},
   "source": [
    "# Random Forest Algorithm"
   ]
  },
  {
   "cell_type": "markdown",
   "metadata": {},
   "source": [
    "Random Forest is an advanced machine learning algorithm for predictive analytics. Random Forest combines multiple decision trees to create an additive learning model from the sequence of base models created by each decision tree that worked on a sub-sample dataset. Random Forest models are suitable to handle tabular datasets with hundreds of numeric and categorical features. Along with missing values, non-linear relations between features and the target, will be handled well by random forest algorithms. With proper tuning of the hyper-parameters of the random forest algorithm, it can perform well with decent accuracy in the predictions without overfitting the model. Unlike similar regression models, it does not offer feature coefficient information but it providesfeature ranking functionality very nicely. "
   ]
  },
  {
   "cell_type": "code",
   "execution_count": 1,
   "metadata": {},
   "outputs": [],
   "source": [
    "import os\n",
    "import numpy as np \n",
    "import pandas as pd\n",
    "from sklearn.ensemble import RandomForestRegressor\n",
    "from sklearn.metrics import accuracy_score\n",
    "from sklearn.metrics import confusion_matrix\n",
    "from sklearn.metrics import mean_squared_error\n",
    "\n",
    "import matplotlib.pyplot as plt\n",
    "%matplotlib inline\n",
    "from matplotlib.pylab import rcParams\n",
    "rcParams['figure.figsize'] = 12, 4"
   ]
  },
  {
   "cell_type": "code",
   "execution_count": 2,
   "metadata": {},
   "outputs": [
    {
     "name": "stdout",
     "output_type": "stream",
     "text": [
      "/home/mcheruvu/git/hid306/project/code\n",
      "\n",
      "The train data has 1460 rows and 307 columns\n",
      "The test data has 1459 rows and 306 columns\n"
     ]
    }
   ],
   "source": [
    "\n",
    "print(os.getcwd())\n",
    "print(\"\")\n",
    "\n",
    "train = pd.read_csv(\"../data/train_after_feature_engineering.csv\")\n",
    "test = pd.read_csv(\"../data/test_after_feature_engineering.csv\")\n",
    "\n",
    "print ('The train data has {0} rows and {1} columns'.format(train.shape[0],train.shape[1]))    \n",
    "print ('The test data has {0} rows and {1} columns'.format(test.shape[0],test.shape[1]))\n"
   ]
  },
  {
   "cell_type": "code",
   "execution_count": 3,
   "metadata": {},
   "outputs": [],
   "source": [
    "np.random.seed(1234)\n",
    "\n",
    "_random_forest_algo = RandomForestRegressor(n_estimators=100, oob_score=True, random_state=123456)"
   ]
  },
  {
   "cell_type": "markdown",
   "metadata": {},
   "source": [
    "# Fit the Model"
   ]
  },
  {
   "cell_type": "code",
   "execution_count": 4,
   "metadata": {},
   "outputs": [],
   "source": [
    "target_vector = train[\"SalePrice\"]\n",
    "target_vector = np.log1p(target_vector) # log(SalePrice) + 1\n",
    "\n",
    "train.drop(['SalePrice'], axis=1, inplace=True)\n",
    "\n",
    "\n",
    "model = _random_forest_algo.fit(train, target_vector)    \n",
    "    "
   ]
  },
  {
   "cell_type": "markdown",
   "metadata": {},
   "source": [
    "# Feature Ranking"
   ]
  },
  {
   "cell_type": "code",
   "execution_count": 11,
   "metadata": {},
   "outputs": [
    {
     "data": {
      "image/png": "[encoded data removed]",
      "text/plain": [
       "<matplotlib.figure.Figure at 0x7f2f6344c710>"
      ]
     },
     "metadata": {},
     "output_type": "display_data"
    }
   ],
   "source": [
    "#top 10 features\n",
    "feat_imp = pd.Series(_random_forest_algo.feature_importances_, train.columns).sort_values(ascending=False)\n",
    "feat_imp[:10].plot(kind='bar', title='Feature Ranmking with Random Forest', figsize=(6,4))\n",
    "plt.ylabel('Feature Importance values')\n",
    "plt.subplots_adjust(bottom=0.25)\n",
    "plt.ylabel('Features Ranking')\n",
    "\n",
    "plot = plt.gcf()\n",
    "plot.savefig(\"../images/random_forest_feature_ranking.pdf\", bbox_inches='tight')\n"
   ]
  },
  {
   "cell_type": "markdown",
   "metadata": {},
   "source": [
    "# Predict the Test Sale Price"
   ]
  },
  {
   "cell_type": "code",
   "execution_count": 24,
   "metadata": {},
   "outputs": [
    {
     "name": "stdout",
     "output_type": "stream",
     "text": [
      "('Random Forest score on training set: ', 0.051904330445822787)\n",
      "[ 12.12575038  12.01663116  12.08182459 ...,  11.94843802  11.67941795\n",
      "  12.35900299]\n"
     ]
    }
   ],
   "source": [
    "y_train = target_vector\n",
    "y_train_pred = _random_forest_algo.predict(train)\n",
    "    \n",
    "rmse_train = np.sqrt(mean_squared_error(y_train,y_train_pred))\n",
    "\n",
    "print(\"Random Forest score on training set: \", rmse_train)\n",
    "\n",
    "y_test_pred = _random_forest_algo.predict(test)\n",
    "\n",
    "print(y_test_pred[5:])"
   ]
  },
  {
   "cell_type": "markdown",
   "metadata": {},
   "source": [
    "# Save Predictions"
   ]
  },
  {
   "cell_type": "code",
   "execution_count": 25,
   "metadata": {},
   "outputs": [
    {
     "name": "stdout",
     "output_type": "stream",
     "text": [
      "...file is saved\n"
     ]
    }
   ],
   "source": [
    "df_predict = pd.DataFrame({'Id': test[\"Id\"], 'SalePrice': np.exp(y_test_pred) - 1.0})\n",
    "#df_predict = pd.DataFrame({'Id': id_vector, 'SalePrice': sale_price_vector})\n",
    "\n",
    "df_predict.to_csv('../data/kaggle_python_random_forest.csv', header=True, index=False)\n",
    "\n",
    "print(\"...file is saved\")"
   ]
  }
 ],
 "metadata": {
  "kernelspec": {
   "display_name": "Python 2",
   "language": "python",
   "name": "python2"
  },
  "language_info": {
   "codemirror_mode": {
    "name": "ipython",
    "version": 2
   },
   "file_extension": ".py",
   "mimetype": "text/x-python",
   "name": "python",
   "nbconvert_exporter": "python",
   "pygments_lexer": "ipython2",
   "version": "2.7.14"
  }
 },
 "nbformat": 4,
 "nbformat_minor": 2
}
