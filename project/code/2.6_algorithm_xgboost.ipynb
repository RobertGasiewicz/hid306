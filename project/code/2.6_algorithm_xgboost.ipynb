{
 "cells": [
  {
   "cell_type": "markdown",
   "metadata": {},
   "source": [
    "# XGBoosting Algorithm"
   ]
  },
  {
   "cell_type": "markdown",
   "metadata": {},
   "source": [
    "XGBoost (eXtreme Gradient Boosting) is one of the Gradient Boosted Machine algorithms. It ensembles (combines) optimized model by taking trained models from all the preceding iterations. XGBoost regularizes the variables (parameters) to reduce the overfit and can work well with variables having missing values. It is empowered with built-in cross validation to reduce the boosting iterations; hence offers better performance along with parallel processing on distributed systems such as Hadoop. By tuning the XGBoost hyper parameters, we can achieve well optimized model that can make more accurate predictions. XGBoost uses Fscore to measure the importance of  variables. Following table explains the hyper-parameters of XGBoost algorithm and also given the python code implementing XGBoost algorithm for sale price predictions."
   ]
  },
  {
   "cell_type": "code",
   "execution_count": 13,
   "metadata": {},
   "outputs": [],
   "source": [
    "import os\n",
    "import numpy as np \n",
    "import pandas as pd\n",
    "import xgboost as xgb\n",
    "from xgboost import XGBClassifier\n",
    "from xgboost import plot_importance\n",
    "import operator\n",
    "\n",
    "from sklearn.metrics import mean_squared_error\n",
    "from sklearn import cross_validation, metrics \n",
    "\n",
    "import matplotlib.pyplot as plt\n",
    "%matplotlib inline\n",
    "from matplotlib.pylab import rcParams\n",
    "rcParams['figure.figsize'] = 12, 4"
   ]
  },
  {
   "cell_type": "code",
   "execution_count": 14,
   "metadata": {},
   "outputs": [
    {
     "name": "stdout",
     "output_type": "stream",
     "text": [
      "/home/mcheruvu/git/hid306/project/code\n",
      "\n",
      "The train data has 1460 rows and 307 columns\n",
      "The test data has 1459 rows and 306 columns\n"
     ]
    }
   ],
   "source": [
    "print(os.getcwd())\n",
    "print(\"\")\n",
    "\n",
    "train = pd.read_csv(\"../data/train_after_feature_engineering.csv\")\n",
    "test = pd.read_csv(\"../data/test_after_feature_engineering.csv\")\n",
    "\n",
    "print ('The train data has {0} rows and {1} columns'.format(train.shape[0],train.shape[1]))    \n",
    "print ('The test data has {0} rows and {1} columns'.format(test.shape[0],test.shape[1]))\n"
   ]
  },
  {
   "cell_type": "code",
   "execution_count": 15,
   "metadata": {},
   "outputs": [],
   "source": [
    "np.random.seed(1234)\n",
    "\n",
    "_xgb_algo = xgb.XGBRegressor(\n",
    "                 colsample_bytree=0.8,\n",
    "                 colsample_bylevel = 0.8,\n",
    "                 gamma=0.01,\n",
    "                 learning_rate=0.05,\n",
    "                 max_depth=5,\n",
    "                 min_child_weight=1.5,\n",
    "                 n_estimators=6000,                                                                  \n",
    "                 reg_alpha=0.5,\n",
    "                 reg_lambda=0.5,\n",
    "                 subsample=0.7,\n",
    "                 seed=42,\n",
    "                 silent=1)"
   ]
  },
  {
   "cell_type": "markdown",
   "metadata": {},
   "source": [
    "# Fit the Model"
   ]
  },
  {
   "cell_type": "code",
   "execution_count": 16,
   "metadata": {},
   "outputs": [
    {
     "data": {
      "text/plain": [
       "XGBRegressor(base_score=0.5, colsample_bylevel=0.8, colsample_bytree=0.8,\n",
       "       gamma=0.01, learning_rate=0.05, max_delta_step=0, max_depth=5,\n",
       "       min_child_weight=1.5, missing=None, n_estimators=6000, nthread=-1,\n",
       "       objective='reg:linear', reg_alpha=0.5, reg_lambda=0.5,\n",
       "       scale_pos_weight=1, seed=42, silent=1, subsample=0.7)"
      ]
     },
     "execution_count": 16,
     "metadata": {},
     "output_type": "execute_result"
    }
   ],
   "source": [
    "target_vector = pd.DataFrame(index = train.index, columns=[\"SalePrice\"])\n",
    "target_vector[\"SalePrice\"] = train[\"SalePrice\"]\n",
    "target_vector[\"SalePrice\"] = np.log1p(target_vector[\"SalePrice\"]) # log(SalePrice) + 1\n",
    "\n",
    "train.drop(['SalePrice'], axis=1, inplace=True)\n",
    "\n",
    "_xgb_algo.fit(train, target_vector)    "
   ]
  },
  {
   "cell_type": "markdown",
   "metadata": {},
   "source": [
    "# Feature Importance"
   ]
  },
  {
   "cell_type": "code",
   "execution_count": 18,
   "metadata": {},
   "outputs": [
    {
     "data": {
      "image/png": "[encoded data removed]",
      "text/plain": [
       "<matplotlib.figure.Figure at 0x7fdffd37b490>"
      ]
     },
     "metadata": {},
     "output_type": "display_data"
    }
   ],
   "source": [
    "plt.figure()\n",
    "feat_imp = pd.Series(_xgb_algo.booster().get_fscore()).sort_values(ascending=False)[0:10] \n",
    "plot = feat_imp.plot(kind='bar', title='Top 10 Feature Importances', figsize =(6,4))\n",
    "plt.ylabel('Feature Importance Score')\n",
    "\n",
    "plot = plt.gcf()\n",
    "\n",
    "plot.savefig(\"../images/xgboost_feature_importance.pdf\", bbox_inches='tight')"
   ]
  },
  {
   "cell_type": "markdown",
   "metadata": {},
   "source": [
    "# Predict the Test Sale Price"
   ]
  },
  {
   "cell_type": "code",
   "execution_count": 60,
   "metadata": {},
   "outputs": [
    {
     "name": "stdout",
     "output_type": "stream",
     "text": [
      "('XGBoost score on training set: ', 0.043285815452145097)\n",
      "[ 12.02621555  12.03620052  12.02542019 ...,  11.99086189  11.64435196\n",
      "  12.27700043]\n"
     ]
    }
   ],
   "source": [
    "y_train = target_vector\n",
    "y_train_pred = _xgb_algo.predict(train)\n",
    "    \n",
    "rmse_train = np.sqrt(mean_squared_error(y_train,y_train_pred))\n",
    "\n",
    "print(\"XGBoost score on training set: \", rmse_train)\n",
    "\n",
    "y_test_pred = _xgb_algo.predict(test)\n",
    "\n",
    "print(y_test_pred[5:])"
   ]
  },
  {
   "cell_type": "markdown",
   "metadata": {},
   "source": [
    "# Save Predictions"
   ]
  },
  {
   "cell_type": "code",
   "execution_count": 61,
   "metadata": {},
   "outputs": [
    {
     "name": "stdout",
     "output_type": "stream",
     "text": [
      "...file is saved\n"
     ]
    }
   ],
   "source": [
    "df_predict = pd.DataFrame({'Id': test[\"Id\"], 'SalePrice': np.exp(y_test_pred) - 1.0})\n",
    "#df_predict = pd.DataFrame({'Id': id_vector, 'SalePrice': sale_price_vector})\n",
    "\n",
    "df_predict.to_csv('../data/kaggle_python_xgboost.csv', header=True, index=False)\n",
    "\n",
    "print('...file is saved')"
   ]
  },
  {
   "cell_type": "code",
   "execution_count": null,
   "metadata": {},
   "outputs": [],
   "source": []
  }
 ],
 "metadata": {
  "kernelspec": {
   "display_name": "Python 2",
   "language": "python",
   "name": "python2"
  },
  "language_info": {
   "codemirror_mode": {
    "name": "ipython",
    "version": 2
   },
   "file_extension": ".py",
   "mimetype": "text/x-python",
   "name": "python",
   "nbconvert_exporter": "python",
   "pygments_lexer": "ipython2",
   "version": "2.7.14"
  }
 },
 "nbformat": 4,
 "nbformat_minor": 2
}
