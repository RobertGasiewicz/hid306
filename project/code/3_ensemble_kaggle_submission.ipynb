{
 "cells": [
  {
   "cell_type": "markdown",
   "metadata": {},
   "source": [
    "# Ensemble and Kaggle Submission"
   ]
  },
  {
   "cell_type": "markdown",
   "metadata": {},
   "source": [
    "We will ensemble the best three algorithms - XGBoost, Random Forest and Lasso."
   ]
  },
  {
   "cell_type": "code",
   "execution_count": 1,
   "metadata": {},
   "outputs": [],
   "source": [
    "import os\n",
    "import pandas as pd\n",
    "import numpy as np "
   ]
  },
  {
   "cell_type": "code",
   "execution_count": 5,
   "metadata": {},
   "outputs": [
    {
     "name": "stdout",
     "output_type": "stream",
     "text": [
      "/home/mcheruvu/notebook/code\n",
      "\n",
      "     Id      SalePrice\n",
      "0  1461  121502.334404\n",
      "1  1462  157585.652942\n",
      "2  1463  179898.200003\n",
      "3  1464  189457.026102\n",
      "4  1465  186690.379834\n",
      "...file saved\n"
     ]
    }
   ],
   "source": [
    "print(os.getcwd())\n",
    "print(\"\")\n",
    "\n",
    "xgb_prediction = pd.read_csv(\"../data/kaggle_python_xgboost.csv\")\n",
    "random_forest_prediction = pd.read_csv(\"../data/kaggle_python_random_forest.csv\")\n",
    "lasso_prediction = pd.read_csv(\"../data/kaggle_python_lasso.csv\")\n",
    "\n",
    "\n",
    "#ensemble best 3 algorithms\n",
    "ensemble_prediction = (xgb_prediction[\"SalePrice\"] + \n",
    "                       random_forest_prediction[\"SalePrice\"] + \n",
    "                       lasso_prediction[\"SalePrice\"]) / 3\n",
    "\n",
    "df_predict = pd.DataFrame({'Id': xgb_prediction[\"Id\"], \n",
    "                           'SalePrice': ensemble_prediction})\n",
    "\n",
    "print(df_predict.head())\n",
    "\n",
    "df_predict.to_csv('../data/kaggle_python_ensemble.csv', header=True, index=False)\n",
    "\n",
    "print(\"...file saved\")\n"
   ]
  },
  {
   "cell_type": "code",
   "execution_count": null,
   "metadata": {},
   "outputs": [],
   "source": []
  }
 ],
 "metadata": {
  "kernelspec": {
   "display_name": "Python 2",
   "language": "python",
   "name": "python2"
  },
  "language_info": {
   "codemirror_mode": {
    "name": "ipython",
    "version": 2
   },
   "file_extension": ".py",
   "mimetype": "text/x-python",
   "name": "python",
   "nbconvert_exporter": "python",
   "pygments_lexer": "ipython2",
   "version": "2.7.14"
  }
 },
 "nbformat": 4,
 "nbformat_minor": 2
}
