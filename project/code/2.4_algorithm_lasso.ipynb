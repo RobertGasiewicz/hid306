{
 "cells": [
  {
   "cell_type": "markdown",
   "metadata": {},
   "source": [
    "# Lasso Algorithm"
   ]
  },
  {
   "cell_type": "markdown",
   "metadata": {},
   "source": [
    "One limitation of XGBoost algorithm, in particular, is its inability to extrapolate and because of this linear model can better predict any sale prices outside the range of prices given in our training set. Hence, regularized linear models are used with penalty term lambda to minimize the error. LASSO, also known as Least Absolute Shrinkage and Selection Operator, is a regression model that does variable selection and regularization. The Lasso model uses a parameter that penalizes fitting too many variables. It allows the shrinkage of variable coefficients to 0, which essentially results in those variables having no effect in the model, thereby reducing dimensionality."
   ]
  },
  {
   "cell_type": "code",
   "execution_count": 122,
   "metadata": {},
   "outputs": [],
   "source": [
    "import os\n",
    "import numpy as np \n",
    "from sklearn.model_selection import GridSearchCV\n",
    "from sklearn.linear_model import Lasso\n",
    "import matplotlib.pyplot as plt\n",
    "import pandas as pd\n",
    "from sklearn.metrics import mean_squared_error"
   ]
  },
  {
   "cell_type": "code",
   "execution_count": 123,
   "metadata": {},
   "outputs": [
    {
     "name": "stdout",
     "output_type": "stream",
     "text": [
      "/home/mcheruvu/notebook\n",
      "\n",
      "The train data has 1460 rows and 307 columns\n",
      "The test data has 1459 rows and 306 columns\n"
     ]
    }
   ],
   "source": [
    "os.system('cd /home/mcheruvu/notebook/code')\n",
    "\n",
    "print(os.getcwd())\n",
    "print(\"\")\n",
    "\n",
    "train = pd.read_csv(\"../data/train_after_feature_engineering.csv\")\n",
    "test = pd.read_csv(\"../data/test_after_feature_engineering.csv\")\n",
    "\n",
    "\n",
    "print ('The train data has {0} rows and {1} columns'.format(train.shape[0],train.shape[1]))    \n",
    "print ('The test data has {0} rows and {1} columns'.format(test.shape[0],test.shape[1]))\n"
   ]
  },
  {
   "cell_type": "code",
   "execution_count": 124,
   "metadata": {},
   "outputs": [],
   "source": [
    "np.random.seed(1234)\n",
    "\n",
    "#found this best alpha value through cross-validation\n",
    "_best_alpha = 0.0001\n",
    "\n",
    "_lasso_algo = Lasso(alpha = _best_alpha, max_iter = 50000)"
   ]
  },
  {
   "cell_type": "markdown",
   "metadata": {},
   "source": [
    "# Fit the Model"
   ]
  },
  {
   "cell_type": "code",
   "execution_count": 125,
   "metadata": {},
   "outputs": [
    {
     "data": {
      "text/plain": [
       "Lasso(alpha=0.0001, copy_X=True, fit_intercept=True, max_iter=50000,\n",
       "   normalize=False, positive=False, precompute=False, random_state=None,\n",
       "   selection='cyclic', tol=0.0001, warm_start=False)"
      ]
     },
     "execution_count": 125,
     "metadata": {},
     "output_type": "execute_result"
    }
   ],
   "source": [
    "target_vector = pd.DataFrame(index = train.index, columns=[\"SalePrice\"])\n",
    "target_vector[\"SalePrice\"] = train[\"SalePrice\"]\n",
    "\n",
    "target_vector[\"SalePrice\"] = np.log1p(target_vector[\"SalePrice\"]) # log(SalePrice) + 1\n",
    "\n",
    "train.drop(['SalePrice'], axis=1, inplace=True)\n",
    "\n",
    "_lasso_algo.fit(train, target_vector)\n"
   ]
  },
  {
   "cell_type": "markdown",
   "metadata": {},
   "source": [
    "# Predict the Test Sale Price"
   ]
  },
  {
   "cell_type": "code",
   "execution_count": 126,
   "metadata": {},
   "outputs": [
    {
     "name": "stdout",
     "output_type": "stream",
     "text": [
      "('Lasso score on training set: ', 0.10151498075749298)\n",
      "[ 12.07016228  12.08523428  12.00229156 ...,  12.03431156  11.66466558\n",
      "  12.34821441]\n"
     ]
    }
   ],
   "source": [
    "y_train = target_vector\n",
    "y_train_pred = _lasso_algo.predict(train)\n",
    "    \n",
    "rmse_train = np.sqrt(mean_squared_error(y_train,y_train_pred))\n",
    "\n",
    "print(\"Lasso score on training set: \", rmse_train)\n",
    "\n",
    "y_test_pred = _lasso_algo.predict(test)\n",
    "\n",
    "print(y_test_pred[5:])"
   ]
  },
  {
   "cell_type": "markdown",
   "metadata": {},
   "source": [
    "# Save Predictions"
   ]
  },
  {
   "cell_type": "code",
   "execution_count": 127,
   "metadata": {},
   "outputs": [
    {
     "name": "stdout",
     "output_type": "stream",
     "text": [
      "..file saved\n"
     ]
    }
   ],
   "source": [
    "df_predict = pd.DataFrame({'Id': test[\"Id\"], 'SalePrice': np.exp(y_test_pred) - 1.0})\n",
    "#df_predict = pd.DataFrame({'Id': id_vector, 'SalePrice': sale_price_vector})\n",
    "\n",
    "df_predict.to_csv('../data/kaggle_python_lasso.csv', header=True, index=False)\n",
    "\n",
    "print(\"..file saved\")"
   ]
  },
  {
   "cell_type": "code",
   "execution_count": null,
   "metadata": {},
   "outputs": [],
   "source": []
  }
 ],
 "metadata": {
  "kernelspec": {
   "display_name": "Python 2",
   "language": "python",
   "name": "python2"
  },
  "language_info": {
   "codemirror_mode": {
    "name": "ipython",
    "version": 2
   },
   "file_extension": ".py",
   "mimetype": "text/x-python",
   "name": "python",
   "nbconvert_exporter": "python",
   "pygments_lexer": "ipython2",
   "version": "2.7.14"
  }
 },
 "nbformat": 4,
 "nbformat_minor": 2
}
