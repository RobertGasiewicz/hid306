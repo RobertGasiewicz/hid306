{
 "cells": [
  {
   "cell_type": "markdown",
   "metadata": {},
   "source": [
    "# Support Vector Machine (SVM) Algorithm"
   ]
  },
  {
   "cell_type": "markdown",
   "metadata": {},
   "source": [
    "Support Vector Machine (SVM) algorithms can be used to solve classification and regression problems. SVM regression relies on kernel functions for modeling the data. SVM creates larger margins between categories of data so that they are linearly separable. SVM handles non-linearly separable data, mainly for regression problems, using kernel functions, such as polynomial, radial basis function (RBF) and sigmoid, to project the data onto a hyperplane. "
   ]
  },
  {
   "cell_type": "markdown",
   "metadata": {},
   "source": [
    "\n"
   ]
  },
  {
   "cell_type": "code",
   "execution_count": 6,
   "metadata": {},
   "outputs": [],
   "source": [
    "import os\n",
    "import numpy as np \n",
    "import pandas as pd\n",
    "from sklearn.svm import SVR\n",
    "import matplotlib.pyplot as plt\n",
    "from sklearn.metrics import mean_squared_error"
   ]
  },
  {
   "cell_type": "code",
   "execution_count": 11,
   "metadata": {},
   "outputs": [
    {
     "name": "stdout",
     "output_type": "stream",
     "text": [
      "/home/mcheruvu/notebook/code\n",
      "\n",
      "The train data has 1460 rows and 307 columns\n",
      "The test data has 1459 rows and 306 columns\n"
     ]
    }
   ],
   "source": [
    "print(os.getcwd())\n",
    "print(\"\")\n",
    "\n",
    "train = pd.read_csv(\"../data/train_after_feature_engineering.csv\")\n",
    "test = pd.read_csv(\"../data/test_after_feature_engineering.csv\")\n",
    "\n",
    "print ('The train data has {0} rows and {1} columns'.format(train.shape[0],train.shape[1]))    \n",
    "print ('The test data has {0} rows and {1} columns'.format(test.shape[0],test.shape[1]))\n"
   ]
  },
  {
   "cell_type": "code",
   "execution_count": 13,
   "metadata": {},
   "outputs": [],
   "source": [
    "np.random.seed(1234)\n",
    "\n",
    "_svm_algo = SVR(kernel = 'rbf', C=1e3, gamma=1e-8)"
   ]
  },
  {
   "cell_type": "markdown",
   "metadata": {},
   "source": [
    "# Fit the Model"
   ]
  },
  {
   "cell_type": "code",
   "execution_count": 14,
   "metadata": {},
   "outputs": [
    {
     "data": {
      "text/plain": [
       "SVR(C=1000.0, cache_size=200, coef0=0.0, degree=3, epsilon=0.1, gamma=1e-08,\n",
       "  kernel='rbf', max_iter=-1, shrinking=True, tol=0.001, verbose=False)"
      ]
     },
     "execution_count": 14,
     "metadata": {},
     "output_type": "execute_result"
    }
   ],
   "source": [
    "target_vector = train[\"SalePrice\"]\n",
    "target_vector= np.log1p(target_vector) # log(SalePrice) + 1\n",
    "\n",
    "train.drop(['SalePrice'], axis=1, inplace=True)\n",
    "            \n",
    "_svm_algo.fit(train, target_vector)    "
   ]
  },
  {
   "cell_type": "markdown",
   "metadata": {},
   "source": [
    "# Predict the Test Sale Price"
   ]
  },
  {
   "cell_type": "code",
   "execution_count": 15,
   "metadata": {},
   "outputs": [
    {
     "name": "stdout",
     "output_type": "stream",
     "text": [
      "('SVM score on training set: ', 0.20692414643056628)\n",
      "[ 12.15006343  12.23559836  12.17325143 ...,  12.14982349  12.3523352\n",
      "  12.32217342]\n"
     ]
    }
   ],
   "source": [
    "y_train = target_vector\n",
    "y_train_pred = _svm_algo.predict(train)\n",
    "    \n",
    "rmse_train = np.sqrt(mean_squared_error(y_train,y_train_pred))\n",
    "\n",
    "print(\"SVM score on training set: \", rmse_train)\n",
    "\n",
    "y_test_pred = _svm_algo.predict(test)\n",
    "\n",
    "print(y_test_pred[5:])"
   ]
  },
  {
   "cell_type": "markdown",
   "metadata": {},
   "source": [
    "# Save Predictions"
   ]
  },
  {
   "cell_type": "code",
   "execution_count": 16,
   "metadata": {},
   "outputs": [
    {
     "name": "stdout",
     "output_type": "stream",
     "text": [
      "     Id      SalePrice\n",
      "0  1461  128717.626380\n",
      "1  1462  435686.036398\n",
      "2  1463  193445.586162\n",
      "3  1464  205788.921232\n",
      "4  1465  167170.662544\n",
      "...file is saved\n"
     ]
    }
   ],
   "source": [
    "df_predict = pd.DataFrame({'Id': test[\"Id\"], 'SalePrice': np.exp(y_test_pred) - 1.0})\n",
    "#df_predict = pd.DataFrame({'Id': id_vector, 'SalePrice': sale_price_vector})\n",
    "\n",
    "print(df_predict.head())\n",
    "\n",
    "df_predict.to_csv('../data/kaggle_python_svm.csv', header=True, index=False)\n",
    "\n",
    "print('...file is saved')"
   ]
  },
  {
   "cell_type": "code",
   "execution_count": null,
   "metadata": {},
   "outputs": [],
   "source": []
  }
 ],
 "metadata": {
  "kernelspec": {
   "display_name": "Python 2",
   "language": "python",
   "name": "python2"
  },
  "language_info": {
   "codemirror_mode": {
    "name": "ipython",
    "version": 2
   },
   "file_extension": ".py",
   "mimetype": "text/x-python",
   "name": "python",
   "nbconvert_exporter": "python",
   "pygments_lexer": "ipython2",
   "version": "2.7.14"
  }
 },
 "nbformat": 4,
 "nbformat_minor": 2
}
